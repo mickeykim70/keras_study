{
 "cells": [
  {
   "cell_type": "code",
   "id": "initial_id",
   "metadata": {
    "collapsed": true,
    "ExecuteTime": {
     "end_time": "2025-01-10T05:55:52.411336Z",
     "start_time": "2025-01-10T05:55:52.406851Z"
    }
   },
   "source": [
    "from keras.datasets import imdb\n",
    "from tensorflow.python.ops.metrics_impl import false_negatives"
   ],
   "outputs": [],
   "execution_count": 121
  },
  {
   "metadata": {
    "ExecuteTime": {
     "end_time": "2025-01-10T05:55:54.396017Z",
     "start_time": "2025-01-10T05:55:52.418452Z"
    }
   },
   "cell_type": "code",
   "source": "(train_data, train_labels), (test_data, test_labels) = imdb.load_data(num_words=10000)",
   "id": "51abd7fa3da1d23a",
   "outputs": [],
   "execution_count": 122
  },
  {
   "metadata": {
    "ExecuteTime": {
     "end_time": "2025-01-10T05:55:54.443581Z",
     "start_time": "2025-01-10T05:55:54.441499Z"
    }
   },
   "cell_type": "code",
   "source": "print(train_data[0], train_labels[0])",
   "id": "3bf7e5424d3f6a0a",
   "outputs": [
    {
     "name": "stdout",
     "output_type": "stream",
     "text": [
      "[1, 14, 22, 16, 43, 530, 973, 1622, 1385, 65, 458, 4468, 66, 3941, 4, 173, 36, 256, 5, 25, 100, 43, 838, 112, 50, 670, 2, 9, 35, 480, 284, 5, 150, 4, 172, 112, 167, 2, 336, 385, 39, 4, 172, 4536, 1111, 17, 546, 38, 13, 447, 4, 192, 50, 16, 6, 147, 2025, 19, 14, 22, 4, 1920, 4613, 469, 4, 22, 71, 87, 12, 16, 43, 530, 38, 76, 15, 13, 1247, 4, 22, 17, 515, 17, 12, 16, 626, 18, 2, 5, 62, 386, 12, 8, 316, 8, 106, 5, 4, 2223, 5244, 16, 480, 66, 3785, 33, 4, 130, 12, 16, 38, 619, 5, 25, 124, 51, 36, 135, 48, 25, 1415, 33, 6, 22, 12, 215, 28, 77, 52, 5, 14, 407, 16, 82, 2, 8, 4, 107, 117, 5952, 15, 256, 4, 2, 7, 3766, 5, 723, 36, 71, 43, 530, 476, 26, 400, 317, 46, 7, 4, 2, 1029, 13, 104, 88, 4, 381, 15, 297, 98, 32, 2071, 56, 26, 141, 6, 194, 7486, 18, 4, 226, 22, 21, 134, 476, 26, 480, 5, 144, 30, 5535, 18, 51, 36, 28, 224, 92, 25, 104, 4, 226, 65, 16, 38, 1334, 88, 12, 16, 283, 5, 16, 4472, 113, 103, 32, 15, 16, 5345, 19, 178, 32] 1\n"
     ]
    }
   ],
   "execution_count": 123
  },
  {
   "metadata": {
    "ExecuteTime": {
     "end_time": "2025-01-10T05:55:54.489870Z",
     "start_time": "2025-01-10T05:55:54.487104Z"
    }
   },
   "cell_type": "code",
   "source": "train_data.shape",
   "id": "35121f144b9fff10",
   "outputs": [
    {
     "data": {
      "text/plain": [
       "(25000,)"
      ]
     },
     "execution_count": 124,
     "metadata": {},
     "output_type": "execute_result"
    }
   ],
   "execution_count": 124
  },
  {
   "metadata": {
    "ExecuteTime": {
     "end_time": "2025-01-10T05:55:54.574801Z",
     "start_time": "2025-01-10T05:55:54.535758Z"
    }
   },
   "cell_type": "code",
   "source": "max([max(i) for i in train_data])\n",
   "id": "3444ab6b0b9bd2ac",
   "outputs": [
    {
     "data": {
      "text/plain": [
       "9999"
      ]
     },
     "execution_count": 125,
     "metadata": {},
     "output_type": "execute_result"
    }
   ],
   "execution_count": 125
  },
  {
   "metadata": {
    "ExecuteTime": {
     "end_time": "2025-01-10T05:55:54.656266Z",
     "start_time": "2025-01-10T05:55:54.618347Z"
    }
   },
   "cell_type": "code",
   "source": [
    "word_index = imdb.get_word_index()\n",
    "reverse_word_index = dict(\n",
    "    [(value, key) for (key, value) in word_index.items()]\n",
    ")\n",
    "\n",
    "decoded_review = ' '.join(\n",
    "    [reverse_word_index.get(i-3, \"?\") for i in train_data[0]]\n",
    ")"
   ],
   "id": "bbc2e73f11c3f30b",
   "outputs": [],
   "execution_count": 126
  },
  {
   "metadata": {
    "ExecuteTime": {
     "end_time": "2025-01-10T05:55:54.703160Z",
     "start_time": "2025-01-10T05:55:54.700804Z"
    }
   },
   "cell_type": "code",
   "source": "decoded_review",
   "id": "6685555ea498ac8d",
   "outputs": [
    {
     "data": {
      "text/plain": [
       "\"? this film was just brilliant casting location scenery story direction everyone's really suited the part they played and you could just imagine being there robert ? is an amazing actor and now the same being director ? father came from the same scottish island as myself so i loved the fact there was a real connection with this film the witty remarks throughout the film were great it was just brilliant so much that i bought the film as soon as it was released for ? and would recommend it to everyone to watch and the fly fishing was amazing really cried at the end it was so sad and you know what they say if you cry at a film it must have been good and this definitely was also ? to the two little boy's that played the ? of norman and paul they were just brilliant children are often left out of the ? list i think because the stars that play them all grown up are such a big profile for the whole film but these children are amazing and should be praised for what they have done don't you think the whole story was so lovely because it was true and was someone's life after all that was shared with us all\""
      ]
     },
     "execution_count": 127,
     "metadata": {},
     "output_type": "execute_result"
    }
   ],
   "execution_count": 127
  },
  {
   "metadata": {
    "ExecuteTime": {
     "end_time": "2025-01-10T05:55:55.836528Z",
     "start_time": "2025-01-10T05:55:54.747837Z"
    }
   },
   "cell_type": "code",
   "source": [
    "import numpy as np\n",
    "\n",
    "def vectorize_sequences(sequence, dimension=10000):\n",
    "    results = np.zeros((len(sequence), dimension))\n",
    "\n",
    "    for i, sequence in enumerate(sequence):\n",
    "        for j in sequence:\n",
    "            results[i,j] = 1.\n",
    "    return results\n",
    "\n",
    "x_train = vectorize_sequences(train_data)\n",
    "x_test = vectorize_sequences(test_data)"
   ],
   "id": "198d6471c3da3014",
   "outputs": [],
   "execution_count": 128
  },
  {
   "metadata": {
    "ExecuteTime": {
     "end_time": "2025-01-10T05:55:55.886168Z",
     "start_time": "2025-01-10T05:55:55.884008Z"
    }
   },
   "cell_type": "code",
   "source": "print(x_train[0])",
   "id": "62140041293d4d37",
   "outputs": [
    {
     "name": "stdout",
     "output_type": "stream",
     "text": [
      "[0. 1. 1. ... 0. 0. 0.]\n"
     ]
    }
   ],
   "execution_count": 129
  },
  {
   "metadata": {
    "ExecuteTime": {
     "end_time": "2025-01-10T05:55:55.933224Z",
     "start_time": "2025-01-10T05:55:55.931161Z"
    }
   },
   "cell_type": "code",
   "source": [
    "y_train = np.asarray(train_labels).astype(\"float32\")\n",
    "y_test = np.asarray(test_labels).astype(\"float32\")"
   ],
   "id": "46520d144ed98f15",
   "outputs": [],
   "execution_count": 130
  },
  {
   "metadata": {
    "ExecuteTime": {
     "end_time": "2025-01-10T05:55:55.979827Z",
     "start_time": "2025-01-10T05:55:55.977364Z"
    }
   },
   "cell_type": "code",
   "source": "y_train",
   "id": "c41fc14a4228bca3",
   "outputs": [
    {
     "data": {
      "text/plain": [
       "array([1., 0., 0., ..., 0., 1., 0.], dtype=float32)"
      ]
     },
     "execution_count": 131,
     "metadata": {},
     "output_type": "execute_result"
    }
   ],
   "execution_count": 131
  },
  {
   "metadata": {
    "ExecuteTime": {
     "end_time": "2025-01-10T05:55:56.025574Z",
     "start_time": "2025-01-10T05:55:56.023371Z"
    }
   },
   "cell_type": "code",
   "source": [
    "import keras\n",
    "from keras import layers"
   ],
   "id": "9de68b5dbb94f9c3",
   "outputs": [],
   "execution_count": 132
  },
  {
   "metadata": {
    "ExecuteTime": {
     "end_time": "2025-01-10T05:55:56.070335Z",
     "start_time": "2025-01-10T05:55:56.067149Z"
    }
   },
   "cell_type": "code",
   "source": [
    "model = keras.Sequential([\n",
    "    layers.Dense(16, activation=\"tanh\"),\n",
    "    layers.Dense(16, activation=\"tanh\"),\n",
    "    layers.Dense(1, activation=\"sigmoid\")\n",
    "])"
   ],
   "id": "fcbb3c02ea7fb39f",
   "outputs": [],
   "execution_count": 133
  },
  {
   "metadata": {
    "ExecuteTime": {
     "end_time": "2025-01-10T05:55:56.121459Z",
     "start_time": "2025-01-10T05:55:56.112885Z"
    }
   },
   "cell_type": "code",
   "source": [
    "model.compile(\n",
    "    optimizer=\"adam\",\n",
    "    loss=\"binary_crossentropy\",\n",
    "    metrics=[\"accuracy\"]\n",
    ")"
   ],
   "id": "23218a3492ee5993",
   "outputs": [],
   "execution_count": 134
  },
  {
   "metadata": {
    "ExecuteTime": {
     "end_time": "2025-01-10T05:55:56.177049Z",
     "start_time": "2025-01-10T05:55:56.166537Z"
    }
   },
   "cell_type": "code",
   "source": [
    "x_val = x_train[:10000]\n",
    "partial_x_train = x_train[10000:]\n",
    "y_val = y_train[:10000]\n",
    "partial_y_train = y_train[10000:]"
   ],
   "id": "28b300e48c0452f1",
   "outputs": [],
   "execution_count": 135
  },
  {
   "metadata": {
    "ExecuteTime": {
     "end_time": "2025-01-10T05:56:06.230968Z",
     "start_time": "2025-01-10T05:55:56.221196Z"
    }
   },
   "cell_type": "code",
   "source": [
    "history = model.fit(\n",
    "    partial_x_train,\n",
    "    partial_y_train,\n",
    "    epochs=20,\n",
    "    batch_size=512,\n",
    "    validation_data=(x_val, y_val)\n",
    ")"
   ],
   "id": "c1606fb025754156",
   "outputs": [
    {
     "name": "stdout",
     "output_type": "stream",
     "text": [
      "Epoch 1/20\n",
      "\u001B[1m30/30\u001B[0m \u001B[32m━━━━━━━━━━━━━━━━━━━━\u001B[0m\u001B[37m\u001B[0m \u001B[1m2s\u001B[0m 34ms/step - accuracy: 0.7046 - loss: 0.5834 - val_accuracy: 0.8633 - val_loss: 0.3602\n",
      "Epoch 2/20\n",
      "\u001B[1m30/30\u001B[0m \u001B[32m━━━━━━━━━━━━━━━━━━━━\u001B[0m\u001B[37m\u001B[0m \u001B[1m0s\u001B[0m 12ms/step - accuracy: 0.9072 - loss: 0.2809 - val_accuracy: 0.8881 - val_loss: 0.2828\n",
      "Epoch 3/20\n",
      "\u001B[1m30/30\u001B[0m \u001B[32m━━━━━━━━━━━━━━━━━━━━\u001B[0m\u001B[37m\u001B[0m \u001B[1m0s\u001B[0m 12ms/step - accuracy: 0.9418 - loss: 0.1831 - val_accuracy: 0.8846 - val_loss: 0.2756\n",
      "Epoch 4/20\n",
      "\u001B[1m30/30\u001B[0m \u001B[32m━━━━━━━━━━━━━━━━━━━━\u001B[0m\u001B[37m\u001B[0m \u001B[1m0s\u001B[0m 12ms/step - accuracy: 0.9627 - loss: 0.1300 - val_accuracy: 0.8832 - val_loss: 0.2883\n",
      "Epoch 5/20\n",
      "\u001B[1m30/30\u001B[0m \u001B[32m━━━━━━━━━━━━━━━━━━━━\u001B[0m\u001B[37m\u001B[0m \u001B[1m0s\u001B[0m 12ms/step - accuracy: 0.9774 - loss: 0.0938 - val_accuracy: 0.8791 - val_loss: 0.3109\n",
      "Epoch 6/20\n",
      "\u001B[1m30/30\u001B[0m \u001B[32m━━━━━━━━━━━━━━━━━━━━\u001B[0m\u001B[37m\u001B[0m \u001B[1m0s\u001B[0m 12ms/step - accuracy: 0.9866 - loss: 0.0686 - val_accuracy: 0.8771 - val_loss: 0.3410\n",
      "Epoch 7/20\n",
      "\u001B[1m30/30\u001B[0m \u001B[32m━━━━━━━━━━━━━━━━━━━━\u001B[0m\u001B[37m\u001B[0m \u001B[1m0s\u001B[0m 12ms/step - accuracy: 0.9924 - loss: 0.0499 - val_accuracy: 0.8768 - val_loss: 0.3673\n",
      "Epoch 8/20\n",
      "\u001B[1m30/30\u001B[0m \u001B[32m━━━━━━━━━━━━━━━━━━━━\u001B[0m\u001B[37m\u001B[0m \u001B[1m0s\u001B[0m 12ms/step - accuracy: 0.9958 - loss: 0.0366 - val_accuracy: 0.8741 - val_loss: 0.3969\n",
      "Epoch 9/20\n",
      "\u001B[1m30/30\u001B[0m \u001B[32m━━━━━━━━━━━━━━━━━━━━\u001B[0m\u001B[37m\u001B[0m \u001B[1m0s\u001B[0m 12ms/step - accuracy: 0.9979 - loss: 0.0257 - val_accuracy: 0.8713 - val_loss: 0.4253\n",
      "Epoch 10/20\n",
      "\u001B[1m30/30\u001B[0m \u001B[32m━━━━━━━━━━━━━━━━━━━━\u001B[0m\u001B[37m\u001B[0m \u001B[1m0s\u001B[0m 12ms/step - accuracy: 0.9991 - loss: 0.0184 - val_accuracy: 0.8706 - val_loss: 0.4538\n",
      "Epoch 11/20\n",
      "\u001B[1m30/30\u001B[0m \u001B[32m━━━━━━━━━━━━━━━━━━━━\u001B[0m\u001B[37m\u001B[0m \u001B[1m0s\u001B[0m 12ms/step - accuracy: 0.9993 - loss: 0.0140 - val_accuracy: 0.8687 - val_loss: 0.4762\n",
      "Epoch 12/20\n",
      "\u001B[1m30/30\u001B[0m \u001B[32m━━━━━━━━━━━━━━━━━━━━\u001B[0m\u001B[37m\u001B[0m \u001B[1m0s\u001B[0m 12ms/step - accuracy: 0.9996 - loss: 0.0106 - val_accuracy: 0.8663 - val_loss: 0.4991\n",
      "Epoch 13/20\n",
      "\u001B[1m30/30\u001B[0m \u001B[32m━━━━━━━━━━━━━━━━━━━━\u001B[0m\u001B[37m\u001B[0m \u001B[1m0s\u001B[0m 12ms/step - accuracy: 0.9997 - loss: 0.0081 - val_accuracy: 0.8674 - val_loss: 0.5163\n",
      "Epoch 14/20\n",
      "\u001B[1m30/30\u001B[0m \u001B[32m━━━━━━━━━━━━━━━━━━━━\u001B[0m\u001B[37m\u001B[0m \u001B[1m0s\u001B[0m 12ms/step - accuracy: 0.9998 - loss: 0.0062 - val_accuracy: 0.8665 - val_loss: 0.5331\n",
      "Epoch 15/20\n",
      "\u001B[1m30/30\u001B[0m \u001B[32m━━━━━━━━━━━━━━━━━━━━\u001B[0m\u001B[37m\u001B[0m \u001B[1m0s\u001B[0m 12ms/step - accuracy: 1.0000 - loss: 0.0052 - val_accuracy: 0.8667 - val_loss: 0.5495\n",
      "Epoch 16/20\n",
      "\u001B[1m30/30\u001B[0m \u001B[32m━━━━━━━━━━━━━━━━━━━━\u001B[0m\u001B[37m\u001B[0m \u001B[1m0s\u001B[0m 12ms/step - accuracy: 1.0000 - loss: 0.0042 - val_accuracy: 0.8666 - val_loss: 0.5642\n",
      "Epoch 17/20\n",
      "\u001B[1m30/30\u001B[0m \u001B[32m━━━━━━━━━━━━━━━━━━━━\u001B[0m\u001B[37m\u001B[0m \u001B[1m0s\u001B[0m 12ms/step - accuracy: 1.0000 - loss: 0.0036 - val_accuracy: 0.8667 - val_loss: 0.5773\n",
      "Epoch 18/20\n",
      "\u001B[1m30/30\u001B[0m \u001B[32m━━━━━━━━━━━━━━━━━━━━\u001B[0m\u001B[37m\u001B[0m \u001B[1m0s\u001B[0m 12ms/step - accuracy: 1.0000 - loss: 0.0033 - val_accuracy: 0.8662 - val_loss: 0.5897\n",
      "Epoch 19/20\n",
      "\u001B[1m30/30\u001B[0m \u001B[32m━━━━━━━━━━━━━━━━━━━━\u001B[0m\u001B[37m\u001B[0m \u001B[1m0s\u001B[0m 11ms/step - accuracy: 1.0000 - loss: 0.0028 - val_accuracy: 0.8657 - val_loss: 0.6013\n",
      "Epoch 20/20\n",
      "\u001B[1m30/30\u001B[0m \u001B[32m━━━━━━━━━━━━━━━━━━━━\u001B[0m\u001B[37m\u001B[0m \u001B[1m0s\u001B[0m 12ms/step - accuracy: 1.0000 - loss: 0.0026 - val_accuracy: 0.8666 - val_loss: 0.6126\n"
     ]
    }
   ],
   "execution_count": 136
  },
  {
   "metadata": {
    "ExecuteTime": {
     "end_time": "2025-01-10T05:56:06.414900Z",
     "start_time": "2025-01-10T05:56:06.285885Z"
    }
   },
   "cell_type": "code",
   "source": [
    "import matplotlib.pyplot as plt\n",
    "\n",
    "history_dict = history.history\n",
    "loss_values = history_dict[\"loss\"]\n",
    "val_loss_values = history_dict[\"val_loss\"]\n",
    "epochs = range(1, len(loss_values)+1)\n",
    "plt.plot(epochs, loss_values, \"bo\", label=\"Training loss\")\n",
    "plt.plot(epochs, val_loss_values, \"b\", label=\"Validation loss\")\n",
    "\n",
    "plt.title(\"Training / Validation loss\")\n",
    "plt.xlabel(\"Epochs\")\n",
    "plt.ylabel(\"Loss\")\n",
    "plt.legend()\n",
    "plt.show()\n",
    "\n",
    "plt.clf()\n",
    "acc = history_dict[\"accuracy\"]\n",
    "val_acc = history_dict[\"val_accuracy\"]\n",
    "plt.plot(epochs, acc, \"bo\", label=\"Training acc\")\n",
    "plt.plot(epochs, val_acc, \"b\", label=\"Validation acc\")\n",
    "plt.title(\"Training and validation accuracy\")\n",
    "plt.xlabel(\"Epochs\")\n",
    "plt.ylabel(\"Accuracy\")\n",
    "plt.legend()\n",
    "plt.show()"
   ],
   "id": "4eccfa40d47b041c",
   "outputs": [
    {
     "data": {
      "text/plain": [
       "<Figure size 640x480 with 1 Axes>"
      ],
      "image/png": "[encoded data removed]"
     },
     "metadata": {},
     "output_type": "display_data"
    },
    {
     "data": {
      "text/plain": [
       "<Figure size 640x480 with 1 Axes>"
      ],
      "image/png": "[encoded data removed]"
     },
     "metadata": {},
     "output_type": "display_data"
    }
   ],
   "execution_count": 137
  },
  {
   "metadata": {
    "ExecuteTime": {
     "end_time": "2025-01-10T05:56:08.949844Z",
     "start_time": "2025-01-10T05:56:06.467082Z"
    }
   },
   "cell_type": "code",
   "source": "preds = model.predict(x_test)",
   "id": "ef8cc39a2cbd97ec",
   "outputs": [
    {
     "name": "stdout",
     "output_type": "stream",
     "text": [
      "\u001B[1m782/782\u001B[0m \u001B[32m━━━━━━━━━━━━━━━━━━━━\u001B[0m\u001B[37m\u001B[0m \u001B[1m1s\u001B[0m 1ms/step\n"
     ]
    }
   ],
   "execution_count": 138
  },
  {
   "metadata": {
    "ExecuteTime": {
     "end_time": "2025-01-10T05:56:09.004586Z",
     "start_time": "2025-01-10T05:56:09.001812Z"
    }
   },
   "cell_type": "code",
   "source": "preds[:10]",
   "id": "b0e142cee52eb106",
   "outputs": [
    {
     "data": {
      "text/plain": [
       "array([[2.7690993e-03],\n",
       "       [9.9992776e-01],\n",
       "       [7.1250784e-01],\n",
       "       [9.9014413e-01],\n",
       "       [9.9879164e-01],\n",
       "       [9.9953949e-01],\n",
       "       [9.9830294e-01],\n",
       "       [1.3572758e-04],\n",
       "       [9.9676967e-01],\n",
       "       [9.9992633e-01]], dtype=float32)"
      ]
     },
     "execution_count": 139,
     "metadata": {},
     "output_type": "execute_result"
    }
   ],
   "execution_count": 139
  },
  {
   "metadata": {
    "ExecuteTime": {
     "end_time": "2025-01-10T05:56:09.075412Z",
     "start_time": "2025-01-10T05:56:09.074243Z"
    }
   },
   "cell_type": "code",
   "source": "",
   "id": "1a28044dac3746e0",
   "outputs": [],
   "execution_count": null
  }
 ],
 "metadata": {
  "kernelspec": {
   "display_name": "Python 3",
   "language": "python",
   "name": "python3"
  },
  "language_info": {
   "codemirror_mode": {
    "name": "ipython",
    "version": 2
   },
   "file_extension": ".py",
   "mimetype": "text/x-python",
   "name": "python",
   "nbconvert_exporter": "python",
   "pygments_lexer": "ipython2",
   "version": "2.7.6"
  }
 },
 "nbformat": 4,
 "nbformat_minor": 5
}
