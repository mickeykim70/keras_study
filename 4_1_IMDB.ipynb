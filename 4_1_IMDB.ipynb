{
  "cells": [
    {
      "cell_type": "markdown",
      "metadata": {
        "id": "view-in-github",
        "colab_type": "text"
      },
      "source": [
        "<a href=\"https://colab.research.google.com/github/mickeykim70/keras_study/blob/main/4_1_IMDB.ipynb\" target=\"_parent\"><img src=\"https://colab.research.google.com/assets/colab-badge.svg\" alt=\"Open In Colab\"/></a>"
      ]
    },
    {
      "metadata": {
        "id": "9fc6bc59852b9ad4"
      },
      "cell_type": "markdown",
      "source": [
        "# Classification Model - Movie Review"
      ],
      "id": "9fc6bc59852b9ad4"
    },
    {
      "metadata": {
        "id": "a0c889a0c13c6a2d"
      },
      "cell_type": "markdown",
      "source": [
        "## 4.1 Loading IMDB dataset"
      ],
      "id": "a0c889a0c13c6a2d"
    },
    {
      "metadata": {
        "ExecuteTime": {
          "end_time": "2025-02-09T15:10:10.506964Z",
          "start_time": "2025-02-09T15:10:06.741714Z"
        },
        "id": "46d7df56e97692a",
        "outputId": "cd38e28f-772d-472e-c366-1e7a2a41699b",
        "colab": {
          "base_uri": "https://localhost:8080/"
        }
      },
      "cell_type": "code",
      "source": [
        "import keras\n",
        "from keras.datasets import imdb\n",
        "\n",
        "(train_data, train_labels), (test_data, test_labels) = imdb.load_data(num_words=10000)"
      ],
      "id": "46d7df56e97692a",
      "outputs": [
        {
          "output_type": "stream",
          "name": "stdout",
          "text": [
            "Downloading data from https://storage.googleapis.com/tensorflow/tf-keras-datasets/imdb.npz\n",
            "\u001b[1m17464789/17464789\u001b[0m \u001b[32m━━━━━━━━━━━━━━━━━━━━\u001b[0m\u001b[37m\u001b[0m \u001b[1m0s\u001b[0m 0us/step\n"
          ]
        }
      ],
      "execution_count": 1
    },
    {
      "metadata": {
        "ExecuteTime": {
          "end_time": "2025-02-09T15:10:10.513584Z",
          "start_time": "2025-02-09T15:10:10.511077Z"
        },
        "id": "fecf3f5bd325d988",
        "outputId": "eacf3f8e-5145-4551-b134-bc5488401736",
        "colab": {
          "base_uri": "https://localhost:8080/"
        }
      },
      "cell_type": "code",
      "source": [
        "print(train_data.shape)\n",
        "print(train_labels.shape)\n",
        "print(test_data.shape)\n",
        "print(test_labels.shape)"
      ],
      "id": "fecf3f5bd325d988",
      "outputs": [
        {
          "output_type": "stream",
          "name": "stdout",
          "text": [
            "(25000,)\n",
            "(25000,)\n",
            "(25000,)\n",
            "(25000,)\n"
          ]
        }
      ],
      "execution_count": 2
    },
    {
      "metadata": {
        "id": "b713959de3d11cb7"
      },
      "cell_type": "markdown",
      "source": [
        "## 4.2 Multi-hot encoding"
      ],
      "id": "b713959de3d11cb7"
    },
    {
      "metadata": {
        "ExecuteTime": {
          "end_time": "2025-02-09T15:10:10.579181Z",
          "start_time": "2025-02-09T15:10:10.576961Z"
        },
        "id": "34078c6af3a2a1d5"
      },
      "cell_type": "code",
      "source": [
        "import numpy as np\n",
        "\n",
        "def vectorize_sequences(sequences, dimension=10000):\n",
        "    results = np.zeros((len(sequences), dimension))\n",
        "    for i, sequence in enumerate(sequences):\n",
        "        for j in sequence:\n",
        "            results[i, j] = 1.\n",
        "    return results"
      ],
      "id": "34078c6af3a2a1d5",
      "outputs": [],
      "execution_count": 4
    },
    {
      "metadata": {
        "ExecuteTime": {
          "end_time": "2025-02-09T15:10:11.693008Z",
          "start_time": "2025-02-09T15:10:10.592620Z"
        },
        "id": "223863284319b1e8",
        "outputId": "7a3e98c1-da61-4a37-872f-3302c16c508e",
        "colab": {
          "base_uri": "https://localhost:8080/"
        }
      },
      "cell_type": "code",
      "source": [
        "train = vectorize_sequences(train_data)\n",
        "test = vectorize_sequences(test_data)\n",
        "print(\"train shape:\", train.shape)\n",
        "print(\"test shape:\", test.shape)"
      ],
      "id": "223863284319b1e8",
      "outputs": [
        {
          "output_type": "stream",
          "name": "stdout",
          "text": [
            "train shape: (25000, 10000)\n",
            "test shape: (25000, 10000)\n"
          ]
        }
      ],
      "execution_count": 5
    },
    {
      "metadata": {
        "ExecuteTime": {
          "end_time": "2025-02-09T15:10:11.710741Z",
          "start_time": "2025-02-09T15:10:11.708463Z"
        },
        "id": "745207beca9a02f5",
        "outputId": "cac293fa-0562-4060-8759-6395e2e9bedd",
        "colab": {
          "base_uri": "https://localhost:8080/"
        }
      },
      "cell_type": "code",
      "source": [
        "label_train = np.asarray(train_labels).astype('float32')\n",
        "label_test = np.asarray(test_labels).astype('float32')\n",
        "print(\"label_train shape:\", label_train.shape)\n",
        "print(\"label_test shape:\", label_test.shape)"
      ],
      "id": "745207beca9a02f5",
      "outputs": [
        {
          "output_type": "stream",
          "name": "stdout",
          "text": [
            "label_train shape: (25000,)\n",
            "label_test shape: (25000,)\n"
          ]
        }
      ],
      "execution_count": 6
    },
    {
      "metadata": {
        "id": "3df7f205c86aab29"
      },
      "cell_type": "markdown",
      "source": [
        "## 4.4 Building your model"
      ],
      "id": "3df7f205c86aab29"
    },
    {
      "metadata": {
        "ExecuteTime": {
          "end_time": "2025-02-09T15:10:11.730610Z",
          "start_time": "2025-02-09T15:10:11.727217Z"
        },
        "id": "f7de19e2da6ec3a2"
      },
      "cell_type": "code",
      "source": [
        "import keras\n",
        "from keras import layers\n",
        "\n",
        "model = keras.Sequential([\n",
        "    layers.Dense(16, activation=\"relu\"),\n",
        "    layers.Dense(16, activation=\"relu\"),\n",
        "    layers.Dense(1)\n",
        "])"
      ],
      "id": "f7de19e2da6ec3a2",
      "outputs": [],
      "execution_count": 7
    },
    {
      "metadata": {
        "id": "fa44b5a1b9deed9e"
      },
      "cell_type": "markdown",
      "source": [
        "## 4.5 Compiling the model"
      ],
      "id": "fa44b5a1b9deed9e"
    },
    {
      "metadata": {
        "ExecuteTime": {
          "end_time": "2025-02-09T15:10:11.818427Z",
          "start_time": "2025-02-09T15:10:11.756791Z"
        },
        "id": "27f8578ad803f5df"
      },
      "cell_type": "code",
      "source": [
        "model.compile(optimizer=\"rmsprop\",\n",
        "              loss=\"mse\",\n",
        "              metrics=[\"accuracy\"])"
      ],
      "id": "27f8578ad803f5df",
      "outputs": [],
      "execution_count": 8
    },
    {
      "metadata": {
        "id": "443df685e15f5c02"
      },
      "cell_type": "markdown",
      "source": [
        "## 4.6 검증세트 만들기"
      ],
      "id": "443df685e15f5c02"
    },
    {
      "metadata": {
        "ExecuteTime": {
          "end_time": "2025-02-09T15:10:11.823027Z",
          "start_time": "2025-02-09T15:10:11.821066Z"
        },
        "id": "e94f9f4a5066db49"
      },
      "cell_type": "code",
      "source": [
        "validation_set = train[:10000]\n",
        "training_set = train[10000:]\n",
        "validation_label = label_train[:10000]\n",
        "training_label = label_train[10000:]"
      ],
      "id": "e94f9f4a5066db49",
      "outputs": [],
      "execution_count": 9
    },
    {
      "metadata": {
        "id": "599114796d13663"
      },
      "cell_type": "markdown",
      "source": [
        "## 4.7 Training model"
      ],
      "id": "599114796d13663"
    },
    {
      "metadata": {
        "ExecuteTime": {
          "end_time": "2025-02-09T15:10:20.326803Z",
          "start_time": "2025-02-09T15:10:11.842131Z"
        },
        "id": "85d08d325173863a",
        "outputId": "d0ad8c0e-3b78-4370-edae-3cc05b802ef4",
        "colab": {
          "base_uri": "https://localhost:8080/"
        }
      },
      "cell_type": "code",
      "source": [
        "history = model.fit(\n",
        "    training_set,\n",
        "    training_label,\n",
        "    epochs=20,\n",
        "    batch_size=512,\n",
        "    validation_data=(validation_set, validation_label),\n",
        ")"
      ],
      "id": "85d08d325173863a",
      "outputs": [
        {
          "output_type": "stream",
          "name": "stdout",
          "text": [
            "Epoch 1/20\n",
            "\u001b[1m30/30\u001b[0m \u001b[32m━━━━━━━━━━━━━━━━━━━━\u001b[0m\u001b[37m\u001b[0m \u001b[1m7s\u001b[0m 72ms/step - accuracy: 0.6232 - loss: 0.2577 - val_accuracy: 0.8504 - val_loss: 0.1223\n",
            "Epoch 2/20\n",
            "\u001b[1m30/30\u001b[0m \u001b[32m━━━━━━━━━━━━━━━━━━━━\u001b[0m\u001b[37m\u001b[0m \u001b[1m1s\u001b[0m 37ms/step - accuracy: 0.8768 - loss: 0.1085 - val_accuracy: 0.8577 - val_loss: 0.1119\n",
            "Epoch 3/20\n",
            "\u001b[1m30/30\u001b[0m \u001b[32m━━━━━━━━━━━━━━━━━━━━\u001b[0m\u001b[37m\u001b[0m \u001b[1m1s\u001b[0m 35ms/step - accuracy: 0.9067 - loss: 0.0856 - val_accuracy: 0.8852 - val_loss: 0.1024\n",
            "Epoch 4/20\n",
            "\u001b[1m30/30\u001b[0m \u001b[32m━━━━━━━━━━━━━━━━━━━━\u001b[0m\u001b[37m\u001b[0m \u001b[1m1s\u001b[0m 36ms/step - accuracy: 0.9360 - loss: 0.0677 - val_accuracy: 0.8688 - val_loss: 0.1029\n",
            "Epoch 5/20\n",
            "\u001b[1m30/30\u001b[0m \u001b[32m━━━━━━━━━━━━━━━━━━━━\u001b[0m\u001b[37m\u001b[0m \u001b[1m1s\u001b[0m 35ms/step - accuracy: 0.9470 - loss: 0.0583 - val_accuracy: 0.8546 - val_loss: 0.1109\n",
            "Epoch 6/20\n",
            "\u001b[1m30/30\u001b[0m \u001b[32m━━━━━━━━━━━━━━━━━━━━\u001b[0m\u001b[37m\u001b[0m \u001b[1m1s\u001b[0m 35ms/step - accuracy: 0.9588 - loss: 0.0481 - val_accuracy: 0.8831 - val_loss: 0.0979\n",
            "Epoch 7/20\n",
            "\u001b[1m30/30\u001b[0m \u001b[32m━━━━━━━━━━━━━━━━━━━━\u001b[0m\u001b[37m\u001b[0m \u001b[1m1s\u001b[0m 32ms/step - accuracy: 0.9682 - loss: 0.0394 - val_accuracy: 0.8821 - val_loss: 0.0987\n",
            "Epoch 8/20\n",
            "\u001b[1m30/30\u001b[0m \u001b[32m━━━━━━━━━━━━━━━━━━━━\u001b[0m\u001b[37m\u001b[0m \u001b[1m1s\u001b[0m 49ms/step - accuracy: 0.9779 - loss: 0.0321 - val_accuracy: 0.8720 - val_loss: 0.1016\n",
            "Epoch 9/20\n",
            "\u001b[1m30/30\u001b[0m \u001b[32m━━━━━━━━━━━━━━━━━━━━\u001b[0m\u001b[37m\u001b[0m \u001b[1m3s\u001b[0m 60ms/step - accuracy: 0.9821 - loss: 0.0291 - val_accuracy: 0.8715 - val_loss: 0.1000\n",
            "Epoch 10/20\n",
            "\u001b[1m30/30\u001b[0m \u001b[32m━━━━━━━━━━━━━━━━━━━━\u001b[0m\u001b[37m\u001b[0m \u001b[1m2s\u001b[0m 35ms/step - accuracy: 0.9891 - loss: 0.0226 - val_accuracy: 0.8593 - val_loss: 0.1089\n",
            "Epoch 11/20\n",
            "\u001b[1m30/30\u001b[0m \u001b[32m━━━━━━━━━━━━━━━━━━━━\u001b[0m\u001b[37m\u001b[0m \u001b[1m1s\u001b[0m 34ms/step - accuracy: 0.9927 - loss: 0.0194 - val_accuracy: 0.8754 - val_loss: 0.0966\n",
            "Epoch 12/20\n",
            "\u001b[1m30/30\u001b[0m \u001b[32m━━━━━━━━━━━━━━━━━━━━\u001b[0m\u001b[37m\u001b[0m \u001b[1m1s\u001b[0m 36ms/step - accuracy: 0.9947 - loss: 0.0159 - val_accuracy: 0.8731 - val_loss: 0.0985\n",
            "Epoch 13/20\n",
            "\u001b[1m30/30\u001b[0m \u001b[32m━━━━━━━━━━━━━━━━━━━━\u001b[0m\u001b[37m\u001b[0m \u001b[1m1s\u001b[0m 36ms/step - accuracy: 0.9948 - loss: 0.0154 - val_accuracy: 0.8740 - val_loss: 0.0989\n",
            "Epoch 14/20\n",
            "\u001b[1m30/30\u001b[0m \u001b[32m━━━━━━━━━━━━━━━━━━━━\u001b[0m\u001b[37m\u001b[0m \u001b[1m1s\u001b[0m 34ms/step - accuracy: 0.9974 - loss: 0.0108 - val_accuracy: 0.8678 - val_loss: 0.1200\n",
            "Epoch 15/20\n",
            "\u001b[1m30/30\u001b[0m \u001b[32m━━━━━━━━━━━━━━━━━━━━\u001b[0m\u001b[37m\u001b[0m \u001b[1m1s\u001b[0m 35ms/step - accuracy: 0.9974 - loss: 0.0144 - val_accuracy: 0.8747 - val_loss: 0.1052\n",
            "Epoch 16/20\n",
            "\u001b[1m30/30\u001b[0m \u001b[32m━━━━━━━━━━━━━━━━━━━━\u001b[0m\u001b[37m\u001b[0m \u001b[1m1s\u001b[0m 33ms/step - accuracy: 0.9981 - loss: 0.0101 - val_accuracy: 0.8714 - val_loss: 0.1049\n",
            "Epoch 17/20\n",
            "\u001b[1m30/30\u001b[0m \u001b[32m━━━━━━━━━━━━━━━━━━━━\u001b[0m\u001b[37m\u001b[0m \u001b[1m1s\u001b[0m 35ms/step - accuracy: 0.9985 - loss: 0.0081 - val_accuracy: 0.8705 - val_loss: 0.1127\n",
            "Epoch 18/20\n",
            "\u001b[1m30/30\u001b[0m \u001b[32m━━━━━━━━━━━━━━━━━━━━\u001b[0m\u001b[37m\u001b[0m \u001b[1m2s\u001b[0m 60ms/step - accuracy: 0.9991 - loss: 0.0092 - val_accuracy: 0.8738 - val_loss: 0.1034\n",
            "Epoch 19/20\n",
            "\u001b[1m30/30\u001b[0m \u001b[32m━━━━━━━━━━━━━━━━━━━━\u001b[0m\u001b[37m\u001b[0m \u001b[1m3s\u001b[0m 59ms/step - accuracy: 0.9986 - loss: 0.0075 - val_accuracy: 0.8736 - val_loss: 0.1043\n",
            "Epoch 20/20\n",
            "\u001b[1m30/30\u001b[0m \u001b[32m━━━━━━━━━━━━━━━━━━━━\u001b[0m\u001b[37m\u001b[0m \u001b[1m1s\u001b[0m 36ms/step - accuracy: 0.9988 - loss: 0.0063 - val_accuracy: 0.8622 - val_loss: 0.1121\n"
          ]
        }
      ],
      "execution_count": 10
    },
    {
      "metadata": {
        "ExecuteTime": {
          "end_time": "2025-02-09T15:10:20.457715Z",
          "start_time": "2025-02-09T15:10:20.346660Z"
        },
        "id": "6220c205657a7017",
        "outputId": "87266cbd-b79a-42b5-ef37-14daad284864",
        "colab": {
          "base_uri": "https://localhost:8080/",
          "height": 472
        }
      },
      "cell_type": "code",
      "source": [
        "import matplotlib.pyplot as plt\n",
        "\n",
        "history_dict = history.history\n",
        "loss_values = history_dict[\"loss\"]\n",
        "val_loss_values = history_dict[\"val_loss\"]\n",
        "epochs = range(1, len(loss_values) + 1)\n",
        "plt.plot(epochs, loss_values, \"bo\", label=\"Training loss\")\n",
        "plt.plot(epochs, val_loss_values, \"b\", label=\"Validation loss\")\n",
        "plt.title(\"Training and validation loss\")\n",
        "plt.xlabel(\"Epochs\")\n",
        "plt.ylabel(\"Loss\")\n",
        "plt.legend()\n",
        "plt.show()"
      ],
      "id": "6220c205657a7017",
      "outputs": [
        {
          "output_type": "display_data",
          "data": {
            "text/plain": [
              "<Figure size 640x480 with 1 Axes>"
            ],
            "image/png": "[encoded data removed]"
          },
          "metadata": {}
        }
      ],
      "execution_count": 11
    },
    {
      "metadata": {
        "ExecuteTime": {
          "end_time": "2025-02-09T15:10:20.754481Z",
          "start_time": "2025-02-09T15:10:20.485701Z"
        },
        "id": "c8603325581ec92f",
        "outputId": "335e094b-03a0-4c05-9322-9a467bc1fbb9",
        "colab": {
          "base_uri": "https://localhost:8080/",
          "height": 472
        }
      },
      "cell_type": "code",
      "source": [
        "plt.clf()\n",
        "acc = history_dict[\"accuracy\"]\n",
        "val_acc = history_dict[\"val_accuracy\"]\n",
        "plt.plot(epochs, acc, \"bo\", label=\"Training acc\")\n",
        "plt.plot(epochs, val_acc, \"b\", label=\"Validation acc\")\n",
        "plt.title(\"Training and validation accuracy\")\n",
        "plt.xlabel(\"Epochs\")\n",
        "plt.ylabel(\"Accuracy\")\n",
        "plt.legend()\n",
        "plt.show()"
      ],
      "id": "c8603325581ec92f",
      "outputs": [
        {
          "output_type": "display_data",
          "data": {
            "text/plain": [
              "<Figure size 640x480 with 1 Axes>"
            ],
            "image/png": "[encoded data removed]"
          },
          "metadata": {}
        }
      ],
      "execution_count": 12
    },
    {
      "metadata": {
        "ExecuteTime": {
          "end_time": "2025-02-09T15:10:20.784292Z",
          "start_time": "2025-02-09T15:10:20.782499Z"
        },
        "id": "5e66b732c4f01eeb"
      },
      "cell_type": "code",
      "source": [],
      "id": "5e66b732c4f01eeb",
      "outputs": [],
      "execution_count": null
    }
  ],
  "metadata": {
    "kernelspec": {
      "display_name": "Python 3",
      "language": "python",
      "name": "python3"
    },
    "language_info": {
      "codemirror_mode": {
        "name": "ipython",
        "version": 2
      },
      "file_extension": ".py",
      "mimetype": "text/x-python",
      "name": "python",
      "nbconvert_exporter": "python",
      "pygments_lexer": "ipython2",
      "version": "2.7.6"
    },
    "colab": {
      "provenance": [],
      "include_colab_link": true
    }
  },
  "nbformat": 4,
  "nbformat_minor": 5
}