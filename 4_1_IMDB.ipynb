{
 "cells": [
  {
   "metadata": {},
   "cell_type": "markdown",
   "source": "# Classification Model - Movie Review",
   "id": "9fc6bc59852b9ad4"
  },
  {
   "metadata": {},
   "cell_type": "markdown",
   "source": "## 4.1 Loading IMDB dataset",
   "id": "a0c889a0c13c6a2d"
  },
  {
   "metadata": {
    "ExecuteTime": {
     "end_time": "2025-02-09T15:10:10.506964Z",
     "start_time": "2025-02-09T15:10:06.741714Z"
    }
   },
   "cell_type": "code",
   "source": [
    "import keras\n",
    "from keras.datasets import imdb\n",
    "\n",
    "(train_data, train_labels), (test_data, test_labels) = imdb.load_data(num_words=10000)"
   ],
   "id": "46d7df56e97692a",
   "outputs": [],
   "execution_count": 1
  },
  {
   "metadata": {
    "ExecuteTime": {
     "end_time": "2025-02-09T15:10:10.513584Z",
     "start_time": "2025-02-09T15:10:10.511077Z"
    }
   },
   "cell_type": "code",
   "source": [
    "print(train_data.shape)\n",
    "print(train_labels.shape)\n",
    "print(test_data.shape)\n",
    "print(test_labels.shape)"
   ],
   "id": "fecf3f5bd325d988",
   "outputs": [
    {
     "name": "stdout",
     "output_type": "stream",
     "text": [
      "(25000,)\n",
      "(25000,)\n",
      "(25000,)\n",
      "(25000,)\n"
     ]
    }
   ],
   "execution_count": 2
  },
  {
   "metadata": {},
   "cell_type": "markdown",
   "source": "## 4.2 Multi-hot encoding",
   "id": "b713959de3d11cb7"
  },
  {
   "metadata": {
    "ExecuteTime": {
     "end_time": "2025-02-09T15:10:10.579181Z",
     "start_time": "2025-02-09T15:10:10.576961Z"
    }
   },
   "cell_type": "code",
   "source": [
    "import numpy as np\n",
    "\n",
    "def vectorize_sequences(sequences, dimension=10000):\n",
    "    results = np.zeros((len(sequences), dimension))\n",
    "    for i, sequence in enumerate(sequences):\n",
    "        for j in sequence:\n",
    "            results[i, j] = 1.\n",
    "    return results"
   ],
   "id": "34078c6af3a2a1d5",
   "outputs": [],
   "execution_count": 3
  },
  {
   "metadata": {
    "ExecuteTime": {
     "end_time": "2025-02-09T15:10:11.693008Z",
     "start_time": "2025-02-09T15:10:10.592620Z"
    }
   },
   "cell_type": "code",
   "source": [
    "train = vectorize_sequences(train_data)\n",
    "test = vectorize_sequences(test_data)\n",
    "print(\"train shape:\", train.shape)\n",
    "print(\"test shape:\", test.shape)"
   ],
   "id": "223863284319b1e8",
   "outputs": [
    {
     "name": "stdout",
     "output_type": "stream",
     "text": [
      "train shape: (25000, 10000)\n",
      "test shape: (25000, 10000)\n"
     ]
    }
   ],
   "execution_count": 4
  },
  {
   "metadata": {
    "ExecuteTime": {
     "end_time": "2025-02-09T15:10:11.710741Z",
     "start_time": "2025-02-09T15:10:11.708463Z"
    }
   },
   "cell_type": "code",
   "source": [
    "label_train = np.asarray(train_labels).astype('float32')\n",
    "label_test = np.asarray(test_labels).astype('float32')\n",
    "print(\"label_train shape:\", label_train.shape)\n",
    "print(\"label_test shape:\", label_test.shape)"
   ],
   "id": "745207beca9a02f5",
   "outputs": [
    {
     "name": "stdout",
     "output_type": "stream",
     "text": [
      "label_train shape: (25000,)\n",
      "label_test shape: (25000,)\n"
     ]
    }
   ],
   "execution_count": 5
  },
  {
   "metadata": {},
   "cell_type": "markdown",
   "source": "## 4.4 Building your model",
   "id": "3df7f205c86aab29"
  },
  {
   "metadata": {
    "ExecuteTime": {
     "end_time": "2025-02-09T15:10:11.730610Z",
     "start_time": "2025-02-09T15:10:11.727217Z"
    }
   },
   "cell_type": "code",
   "source": [
    "import keras\n",
    "from keras import layers\n",
    "\n",
    "model = keras.Sequential([\n",
    "    layers.Dense(16, activation=\"relu\"),\n",
    "    layers.Dense(16, activation=\"relu\"),\n",
    "    layers.Dense(1)\n",
    "])"
   ],
   "id": "f7de19e2da6ec3a2",
   "outputs": [],
   "execution_count": 6
  },
  {
   "metadata": {},
   "cell_type": "markdown",
   "source": "## 4.5 Compiling the model",
   "id": "fa44b5a1b9deed9e"
  },
  {
   "metadata": {
    "ExecuteTime": {
     "end_time": "2025-02-09T15:10:11.818427Z",
     "start_time": "2025-02-09T15:10:11.756791Z"
    }
   },
   "cell_type": "code",
   "source": [
    "model.compile(optimizer=\"rmsprop\",\n",
    "              loss=\"mse\",\n",
    "              metrics=[\"accuracy\"])"
   ],
   "id": "27f8578ad803f5df",
   "outputs": [
    {
     "name": "stderr",
     "output_type": "stream",
     "text": [
      "2025-02-10 00:10:11.758093: I metal_plugin/src/device/metal_device.cc:1154] Metal device set to: Apple M2\n",
      "2025-02-10 00:10:11.758130: I metal_plugin/src/device/metal_device.cc:296] systemMemory: 8.00 GB\n",
      "2025-02-10 00:10:11.758145: I metal_plugin/src/device/metal_device.cc:313] maxCacheSize: 2.67 GB\n",
      "2025-02-10 00:10:11.758161: I tensorflow/core/common_runtime/pluggable_device/pluggable_device_factory.cc:305] Could not identify NUMA node of platform GPU ID 0, defaulting to 0. Your kernel may not have been built with NUMA support.\n",
      "2025-02-10 00:10:11.758171: I tensorflow/core/common_runtime/pluggable_device/pluggable_device_factory.cc:271] Created TensorFlow device (/job:localhost/replica:0/task:0/device:GPU:0 with 0 MB memory) -> physical PluggableDevice (device: 0, name: METAL, pci bus id: <undefined>)\n"
     ]
    }
   ],
   "execution_count": 7
  },
  {
   "metadata": {},
   "cell_type": "markdown",
   "source": "## 4.6 검증세트 만들기",
   "id": "443df685e15f5c02"
  },
  {
   "metadata": {
    "ExecuteTime": {
     "end_time": "2025-02-09T15:10:11.823027Z",
     "start_time": "2025-02-09T15:10:11.821066Z"
    }
   },
   "cell_type": "code",
   "source": [
    "validation_set = train[:10000]\n",
    "training_set = train[10000:]\n",
    "validation_label = label_train[:10000]\n",
    "training_label = label_train[10000:]"
   ],
   "id": "e94f9f4a5066db49",
   "outputs": [],
   "execution_count": 8
  },
  {
   "metadata": {},
   "cell_type": "markdown",
   "source": "## 4.7 Training model",
   "id": "599114796d13663"
  },
  {
   "metadata": {
    "ExecuteTime": {
     "end_time": "2025-02-09T15:10:20.326803Z",
     "start_time": "2025-02-09T15:10:11.842131Z"
    }
   },
   "cell_type": "code",
   "source": [
    "history = model.fit(\n",
    "    training_set,\n",
    "    training_label,\n",
    "    epochs=20,\n",
    "    batch_size=512,\n",
    "    validation_data=(validation_set, validation_label),\n",
    ")"
   ],
   "id": "85d08d325173863a",
   "outputs": [
    {
     "name": "stdout",
     "output_type": "stream",
     "text": [
      "Epoch 1/20\n"
     ]
    },
    {
     "name": "stderr",
     "output_type": "stream",
     "text": [
      "2025-02-10 00:10:12.866963: I tensorflow/core/grappler/optimizers/custom_graph_optimizer_registry.cc:117] Plugin optimizer for device_type GPU is enabled.\n"
     ]
    },
    {
     "name": "stdout",
     "output_type": "stream",
     "text": [
      "\u001B[1m30/30\u001B[0m \u001B[32m━━━━━━━━━━━━━━━━━━━━\u001B[0m\u001B[37m\u001B[0m \u001B[1m1s\u001B[0m 32ms/step - accuracy: 0.4967 - loss: 0.5038 - val_accuracy: 0.5901 - val_loss: 0.2542\n",
      "Epoch 2/20\n",
      "\u001B[1m30/30\u001B[0m \u001B[32m━━━━━━━━━━━━━━━━━━━━\u001B[0m\u001B[37m\u001B[0m \u001B[1m0s\u001B[0m 10ms/step - accuracy: 0.6831 - loss: 0.2107 - val_accuracy: 0.8133 - val_loss: 0.1518\n",
      "Epoch 3/20\n",
      "\u001B[1m30/30\u001B[0m \u001B[32m━━━━━━━━━━━━━━━━━━━━\u001B[0m\u001B[37m\u001B[0m \u001B[1m0s\u001B[0m 11ms/step - accuracy: 0.8568 - loss: 0.1286 - val_accuracy: 0.8166 - val_loss: 0.1489\n",
      "Epoch 4/20\n",
      "\u001B[1m30/30\u001B[0m \u001B[32m━━━━━━━━━━━━━━━━━━━━\u001B[0m\u001B[37m\u001B[0m \u001B[1m0s\u001B[0m 10ms/step - accuracy: 0.8772 - loss: 0.1138 - val_accuracy: 0.8591 - val_loss: 0.1316\n",
      "Epoch 5/20\n",
      "\u001B[1m30/30\u001B[0m \u001B[32m━━━━━━━━━━━━━━━━━━━━\u001B[0m\u001B[37m\u001B[0m \u001B[1m0s\u001B[0m 10ms/step - accuracy: 0.8928 - loss: 0.1128 - val_accuracy: 0.8497 - val_loss: 0.1393\n",
      "Epoch 6/20\n",
      "\u001B[1m30/30\u001B[0m \u001B[32m━━━━━━━━━━━━━━━━━━━━\u001B[0m\u001B[37m\u001B[0m \u001B[1m0s\u001B[0m 10ms/step - accuracy: 0.8950 - loss: 0.1087 - val_accuracy: 0.8539 - val_loss: 0.1319\n",
      "Epoch 7/20\n",
      "\u001B[1m30/30\u001B[0m \u001B[32m━━━━━━━━━━━━━━━━━━━━\u001B[0m\u001B[37m\u001B[0m \u001B[1m0s\u001B[0m 10ms/step - accuracy: 0.9088 - loss: 0.1009 - val_accuracy: 0.8649 - val_loss: 0.1277\n",
      "Epoch 8/20\n",
      "\u001B[1m30/30\u001B[0m \u001B[32m━━━━━━━━━━━━━━━━━━━━\u001B[0m\u001B[37m\u001B[0m \u001B[1m0s\u001B[0m 10ms/step - accuracy: 0.9140 - loss: 0.0988 - val_accuracy: 0.8644 - val_loss: 0.1274\n",
      "Epoch 9/20\n",
      "\u001B[1m30/30\u001B[0m \u001B[32m━━━━━━━━━━━━━━━━━━━━\u001B[0m\u001B[37m\u001B[0m \u001B[1m0s\u001B[0m 10ms/step - accuracy: 0.9173 - loss: 0.0988 - val_accuracy: 0.8634 - val_loss: 0.1293\n",
      "Epoch 10/20\n",
      "\u001B[1m30/30\u001B[0m \u001B[32m━━━━━━━━━━━━━━━━━━━━\u001B[0m\u001B[37m\u001B[0m \u001B[1m0s\u001B[0m 10ms/step - accuracy: 0.9237 - loss: 0.0920 - val_accuracy: 0.8638 - val_loss: 0.1278\n",
      "Epoch 11/20\n",
      "\u001B[1m30/30\u001B[0m \u001B[32m━━━━━━━━━━━━━━━━━━━━\u001B[0m\u001B[37m\u001B[0m \u001B[1m0s\u001B[0m 10ms/step - accuracy: 0.9253 - loss: 0.0926 - val_accuracy: 0.8675 - val_loss: 0.1283\n",
      "Epoch 12/20\n",
      "\u001B[1m30/30\u001B[0m \u001B[32m━━━━━━━━━━━━━━━━━━━━\u001B[0m\u001B[37m\u001B[0m \u001B[1m0s\u001B[0m 10ms/step - accuracy: 0.9332 - loss: 0.0862 - val_accuracy: 0.8564 - val_loss: 0.1279\n",
      "Epoch 13/20\n",
      "\u001B[1m30/30\u001B[0m \u001B[32m━━━━━━━━━━━━━━━━━━━━\u001B[0m\u001B[37m\u001B[0m \u001B[1m0s\u001B[0m 10ms/step - accuracy: 0.9348 - loss: 0.0848 - val_accuracy: 0.8697 - val_loss: 0.1279\n",
      "Epoch 14/20\n",
      "\u001B[1m30/30\u001B[0m \u001B[32m━━━━━━━━━━━━━━━━━━━━\u001B[0m\u001B[37m\u001B[0m \u001B[1m0s\u001B[0m 10ms/step - accuracy: 0.9371 - loss: 0.0844 - val_accuracy: 0.8631 - val_loss: 0.1303\n",
      "Epoch 15/20\n",
      "\u001B[1m30/30\u001B[0m \u001B[32m━━━━━━━━━━━━━━━━━━━━\u001B[0m\u001B[37m\u001B[0m \u001B[1m0s\u001B[0m 11ms/step - accuracy: 0.9412 - loss: 0.0806 - val_accuracy: 0.8496 - val_loss: 0.1374\n",
      "Epoch 16/20\n",
      "\u001B[1m30/30\u001B[0m \u001B[32m━━━━━━━━━━━━━━━━━━━━\u001B[0m\u001B[37m\u001B[0m \u001B[1m0s\u001B[0m 11ms/step - accuracy: 0.9366 - loss: 0.0845 - val_accuracy: 0.8653 - val_loss: 0.1348\n",
      "Epoch 17/20\n",
      "\u001B[1m30/30\u001B[0m \u001B[32m━━━━━━━━━━━━━━━━━━━━\u001B[0m\u001B[37m\u001B[0m \u001B[1m0s\u001B[0m 10ms/step - accuracy: 0.9379 - loss: 0.0833 - val_accuracy: 0.8668 - val_loss: 0.1329\n",
      "Epoch 18/20\n",
      "\u001B[1m30/30\u001B[0m \u001B[32m━━━━━━━━━━━━━━━━━━━━\u001B[0m\u001B[37m\u001B[0m \u001B[1m0s\u001B[0m 10ms/step - accuracy: 0.9475 - loss: 0.0770 - val_accuracy: 0.8692 - val_loss: 0.1326\n",
      "Epoch 19/20\n",
      "\u001B[1m30/30\u001B[0m \u001B[32m━━━━━━━━━━━━━━━━━━━━\u001B[0m\u001B[37m\u001B[0m \u001B[1m0s\u001B[0m 10ms/step - accuracy: 0.9469 - loss: 0.0775 - val_accuracy: 0.8639 - val_loss: 0.1296\n",
      "Epoch 20/20\n",
      "\u001B[1m30/30\u001B[0m \u001B[32m━━━━━━━━━━━━━━━━━━━━\u001B[0m\u001B[37m\u001B[0m \u001B[1m0s\u001B[0m 11ms/step - accuracy: 0.9530 - loss: 0.0725 - val_accuracy: 0.8593 - val_loss: 0.1375\n"
     ]
    }
   ],
   "execution_count": 9
  },
  {
   "metadata": {
    "ExecuteTime": {
     "end_time": "2025-02-09T15:10:20.457715Z",
     "start_time": "2025-02-09T15:10:20.346660Z"
    }
   },
   "cell_type": "code",
   "source": [
    "import matplotlib.pyplot as plt\n",
    "\n",
    "history_dict = history.history\n",
    "loss_values = history_dict[\"loss\"]\n",
    "val_loss_values = history_dict[\"val_loss\"]\n",
    "epochs = range(1, len(loss_values) + 1)\n",
    "plt.plot(epochs, loss_values, \"bo\", label=\"Training loss\")\n",
    "plt.plot(epochs, val_loss_values, \"b\", label=\"Validation loss\")\n",
    "plt.title(\"Training and validation loss\")\n",
    "plt.xlabel(\"Epochs\")\n",
    "plt.ylabel(\"Loss\")\n",
    "plt.legend()\n",
    "plt.show()"
   ],
   "id": "6220c205657a7017",
   "outputs": [
    {
     "data": {
      "text/plain": [
       "<Figure size 640x480 with 1 Axes>"
      ],
      "image/png": "[encoded data removed]"
     },
     "metadata": {},
     "output_type": "display_data"
    }
   ],
   "execution_count": 10
  },
  {
   "metadata": {
    "ExecuteTime": {
     "end_time": "2025-02-09T15:10:20.754481Z",
     "start_time": "2025-02-09T15:10:20.485701Z"
    }
   },
   "cell_type": "code",
   "source": [
    "plt.clf()\n",
    "acc = history_dict[\"accuracy\"]\n",
    "val_acc = history_dict[\"val_accuracy\"]\n",
    "plt.plot(epochs, acc, \"bo\", label=\"Training acc\")\n",
    "plt.plot(epochs, val_acc, \"b\", label=\"Validation acc\")\n",
    "plt.title(\"Training and validation accuracy\")\n",
    "plt.xlabel(\"Epochs\")\n",
    "plt.ylabel(\"Accuracy\")\n",
    "plt.legend()\n",
    "plt.show()"
   ],
   "id": "c8603325581ec92f",
   "outputs": [
    {
     "data": {
      "text/plain": [
       "<Figure size 640x480 with 1 Axes>"
      ],
      "image/png": "[encoded data removed]"
     },
     "metadata": {},
     "output_type": "display_data"
    }
   ],
   "execution_count": 11
  },
  {
   "metadata": {
    "ExecuteTime": {
     "end_time": "2025-02-09T15:10:20.784292Z",
     "start_time": "2025-02-09T15:10:20.782499Z"
    }
   },
   "cell_type": "code",
   "source": "",
   "id": "5e66b732c4f01eeb",
   "outputs": [],
   "execution_count": null
  }
 ],
 "metadata": {
  "kernelspec": {
   "display_name": "Python 3",
   "language": "python",
   "name": "python3"
  },
  "language_info": {
   "codemirror_mode": {
    "name": "ipython",
    "version": 2
   },
   "file_extension": ".py",
   "mimetype": "text/x-python",
   "name": "python",
   "nbconvert_exporter": "python",
   "pygments_lexer": "ipython2",
   "version": "2.7.6"
  }
 },
 "nbformat": 4,
 "nbformat_minor": 5
}
