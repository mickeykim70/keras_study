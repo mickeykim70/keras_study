{
 "cells": [
  {
   "cell_type": "code",
   "id": "a4187676-72fd-426c-936b-3febb84b2578",
   "metadata": {
    "ExecuteTime": {
     "end_time": "2024-12-31T15:10:59.640240Z",
     "start_time": "2024-12-31T15:10:56.570725Z"
    }
   },
   "source": "import keras",
   "outputs": [],
   "execution_count": 1
  },
  {
   "metadata": {
    "ExecuteTime": {
     "end_time": "2024-12-31T15:40:35.873354Z",
     "start_time": "2024-12-31T15:40:35.859737Z"
    }
   },
   "cell_type": "code",
   "source": "keras.__version__",
   "id": "65ee1c4d1b615002",
   "outputs": [
    {
     "data": {
      "text/plain": [
       "'3.7.0'"
      ]
     },
     "execution_count": 2,
     "metadata": {},
     "output_type": "execute_result"
    }
   ],
   "execution_count": 2
  },
  {
   "metadata": {},
   "cell_type": "code",
   "outputs": [],
   "execution_count": null,
   "source": "",
   "id": "25df99c3050fe96f"
  }
 ],
 "metadata": {
  "kernelspec": {
   "display_name": "Python 3 (ipykernel)",
   "language": "python",
   "name": "python3"
  },
  "language_info": {
   "codemirror_mode": {
    "name": "ipython",
    "version": 3
   },
   "file_extension": ".py",
   "mimetype": "text/x-python",
   "name": "python",
   "nbconvert_exporter": "python",
   "pygments_lexer": "ipython3",
   "version": "3.10.16"
  }
 },
 "nbformat": 4,
 "nbformat_minor": 5
}
